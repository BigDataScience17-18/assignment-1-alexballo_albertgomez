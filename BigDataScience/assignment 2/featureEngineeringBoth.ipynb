{
 "cells": [
  {
   "cell_type": "markdown",
   "metadata": {},
   "source": [
    "# Feature Engineering by rows\n",
    "## Alcoholic and Control"
   ]
  },
  {
   "cell_type": "code",
   "execution_count": 2,
   "metadata": {
    "scrolled": false
   },
   "outputs": [
    {
     "name": "stdout",
     "output_type": "stream",
     "text": [
      "./dataset/.DS_Store\n",
      "./dataset/co2a0000364.txt\n",
      "./dataset/co2c0000347.txt\n"
     ]
    }
   ],
   "source": [
    "import numpy as np\n",
    "import pandas as pd\n",
    "import matplotlib.pyplot as plt\n",
    "from sklearn.decomposition import PCA\n",
    "from os import listdir\n",
    "root=\"./dataset\";\n",
    "\n",
    "\n",
    "# It is going to take a while to read all the data\n",
    "#linecounter= 0\n",
    "#filecounter=0\n",
    "df = pd.DataFrame(columns=['user_id', 'alcoholic', 'paradigm','replication','Channel','Min','Max','Sd','Mean',\n",
    "                               'Median','IQR','0.025','0.25','0.5','0.75','0.975'])\n",
    "cont=0;\n",
    "for file in listdir(\"./dataset\"):\n",
    "\n",
    "\n",
    "        # Renaming the file\n",
    "        \n",
    "        #filecounter= filecounter + 1\n",
    "        \n",
    "        file_root = root + \"/\" + file\n",
    "        print(file_root)\n",
    "        if(file!=\".DS_Store\"):\n",
    "            read_file = open(file_root, 'r')\n",
    "            read_file.readline()\n",
    "            counterinside=0\n",
    "            user = []\n",
    "            alcoholic=[]\n",
    "            paradigm=[]\n",
    "            replication=[]\n",
    "            channel=[]\n",
    "           \n",
    "            # For each line we separate the values to add them in the created dataframe\n",
    "            for line in read_file:\n",
    "               # if(filecounter<=5):\n",
    "                #    linecounter= linecounter + 1\n",
    "                \n",
    "                firstline = line.split(\"  \")\n",
    "                lineeg=[]\n",
    "\n",
    "                for i in range(len(firstline)-1):\n",
    "                    \n",
    "\n",
    "                    if i==0:\n",
    "                        user.append(float(firstline[i]))\n",
    "                    elif i==1:\n",
    "                        alcoholic.append(firstline[i])\n",
    "\n",
    "                    elif i==2:\n",
    "\n",
    "                        paradigm.append(firstline[i])\n",
    "\n",
    "                    if i==3:\n",
    "\n",
    "                        replication.append(float(firstline[i]))\n",
    "                    elif i>=4:\n",
    "                        if i==4:\n",
    "                            channelline=firstline[i].split(\" \")\n",
    "                            channel.append(channelline[0])\n",
    "                            if channelline[1][0]=='c':\n",
    "                                canal=channelline[1][1:]\n",
    "                                lineeg.append(float(canal))\n",
    "\n",
    "                            else:\n",
    "                                lineeg.append(float(channelline[1]))\n",
    "\n",
    "                        else:\n",
    "                            lineeg.append(float(firstline[i]))\n",
    "\n",
    "              \n",
    "                datachannel = pd.DataFrame(lineeg)\n",
    "                min = datachannel.min()\n",
    "                max = datachannel.max()\n",
    "                sd = datachannel.std()\n",
    "                mean = datachannel.mean()\n",
    "                quantil0=datachannel.quantile(.025)\n",
    "                quantil1=datachannel.quantile(.25)\n",
    "                median=datachannel.quantile(.5)\n",
    "                quantil3=datachannel.quantile(.75)\n",
    "                quantil4=datachannel.quantile(.975)\n",
    "                iqr=quantil3[0]-quantil1[0]\n",
    "                # counterinside is the one which goes through the lines of the current file\n",
    "                # cont is the counter which goes through all the files\n",
    "                df.loc[cont]=[user[counterinside],alcoholic[counterinside],paradigm[counterinside],replication[counterinside],channel[counterinside],min[0],max[0],\n",
    "                              sd[0],mean[0],median[0],iqr,quantil0[0],quantil1[0],median[0],quantil3[0],quantil4[0]]\n",
    "               \n",
    "                cont= cont +1\n",
    "                counterinside= counterinside + 1"
   ]
  },
  {
   "cell_type": "markdown",
   "metadata": {},
   "source": [
    "## Separate target and features\n",
    "\n"
   ]
  },
  {
   "cell_type": "code",
   "execution_count": 5,
   "metadata": {
    "scrolled": true
   },
   "outputs": [
    {
     "name": "stdout",
     "output_type": "stream",
     "text": [
      "[[-13.316       19.887        6.70782517 ...   4.751        8.169\n",
      "   16.958     ]\n",
      " [-14.303       24.76         7.97712967 ...   4.74         8.647\n",
      "   20.854     ]\n",
      " [-30.589       31.423        9.71450203 ...   5.788       12.868\n",
      "   22.939     ]\n",
      " ...\n",
      " [ -5.859       12.207        3.23385049 ...   2.93         5.859\n",
      "    9.582625  ]\n",
      " [-30.141        6.48         8.27033243 ...  -9.145       -1.699\n",
      "    4.832     ]\n",
      " [-37.842        4.639        8.52955733 ... -13.428       -7.93475\n",
      "    2.197     ]]\n"
     ]
    }
   ],
   "source": [
    "from sklearn.preprocessing import StandardScaler\n",
    "\n",
    "features =['Min','Max','Sd','Mean',\n",
    "                           'Median','IQR','0.025','0.25','0.5','0.75','0.975']\n",
    "# Separating explicatives variables off the target\n",
    "x = df.loc[:, features].values\n",
    "# Separating out the target\n",
    "y = df.loc[:,['alcoholic']].values\n",
    "print(x)\n",
    "\n",
    "\n",
    "# Standardizing the features\n",
    "x = StandardScaler().fit_transform(x)"
   ]
  },
  {
   "cell_type": "markdown",
   "metadata": {},
   "source": [
    "## PCA"
   ]
  },
  {
   "cell_type": "code",
   "execution_count": 25,
   "metadata": {},
   "outputs": [
    {
     "data": {
      "text/html": [
       "<div>\n",
       "<style scoped>\n",
       "    .dataframe tbody tr th:only-of-type {\n",
       "        vertical-align: middle;\n",
       "    }\n",
       "\n",
       "    .dataframe tbody tr th {\n",
       "        vertical-align: top;\n",
       "    }\n",
       "\n",
       "    .dataframe thead th {\n",
       "        text-align: right;\n",
       "    }\n",
       "</style>\n",
       "<table border=\"1\" class=\"dataframe\">\n",
       "  <thead>\n",
       "    <tr style=\"text-align: right;\">\n",
       "      <th></th>\n",
       "      <th>component 1</th>\n",
       "      <th>component 2</th>\n",
       "    </tr>\n",
       "  </thead>\n",
       "  <tbody>\n",
       "    <tr>\n",
       "      <th>0</th>\n",
       "      <td>-2.362119</td>\n",
       "      <td>0.523351</td>\n",
       "    </tr>\n",
       "    <tr>\n",
       "      <th>1</th>\n",
       "      <td>-2.175675</td>\n",
       "      <td>1.192080</td>\n",
       "    </tr>\n",
       "    <tr>\n",
       "      <th>2</th>\n",
       "      <td>-2.269394</td>\n",
       "      <td>2.463683</td>\n",
       "    </tr>\n",
       "    <tr>\n",
       "      <th>3</th>\n",
       "      <td>-0.905342</td>\n",
       "      <td>2.436617</td>\n",
       "    </tr>\n",
       "    <tr>\n",
       "      <th>4</th>\n",
       "      <td>-2.364598</td>\n",
       "      <td>-0.462125</td>\n",
       "    </tr>\n",
       "    <tr>\n",
       "      <th>5</th>\n",
       "      <td>-2.369378</td>\n",
       "      <td>-0.355456</td>\n",
       "    </tr>\n",
       "    <tr>\n",
       "      <th>6</th>\n",
       "      <td>-2.099097</td>\n",
       "      <td>-1.209046</td>\n",
       "    </tr>\n",
       "    <tr>\n",
       "      <th>7</th>\n",
       "      <td>-1.915087</td>\n",
       "      <td>-0.621047</td>\n",
       "    </tr>\n",
       "    <tr>\n",
       "      <th>8</th>\n",
       "      <td>-2.973546</td>\n",
       "      <td>-0.267823</td>\n",
       "    </tr>\n",
       "    <tr>\n",
       "      <th>9</th>\n",
       "      <td>-1.667001</td>\n",
       "      <td>-0.369937</td>\n",
       "    </tr>\n",
       "  </tbody>\n",
       "</table>\n",
       "</div>"
      ],
      "text/plain": [
       "   component 1  component 2\n",
       "0    -2.362119     0.523351\n",
       "1    -2.175675     1.192080\n",
       "2    -2.269394     2.463683\n",
       "3    -0.905342     2.436617\n",
       "4    -2.364598    -0.462125\n",
       "5    -2.369378    -0.355456\n",
       "6    -2.099097    -1.209046\n",
       "7    -1.915087    -0.621047\n",
       "8    -2.973546    -0.267823\n",
       "9    -1.667001    -0.369937"
      ]
     },
     "execution_count": 25,
     "metadata": {},
     "output_type": "execute_result"
    }
   ],
   "source": [
    "\n",
    "# Keeping 2 components\n",
    "pca = PCA(n_components=2)\n",
    "# Explicative variables transformation\n",
    "principalComponents = pca.fit_transform(x)\n",
    "principalDf = pd.DataFrame(data = principalComponents\n",
    "             , columns = ['component 1', 'component 2'])\n",
    "principalDf.head(10)"
   ]
  },
  {
   "cell_type": "markdown",
   "metadata": {},
   "source": [
    "## Important explicative variables"
   ]
  },
  {
   "cell_type": "code",
   "execution_count": 7,
   "metadata": {},
   "outputs": [
    {
     "data": {
      "text/plain": [
       "array([0.56189175, 0.35583832])"
      ]
     },
     "execution_count": 7,
     "metadata": {},
     "output_type": "execute_result"
    }
   ],
   "source": [
    "\n",
    "pca.explained_variance_ratio_"
   ]
  },
  {
   "cell_type": "markdown",
   "metadata": {},
   "source": [
    "### Relationship important data"
   ]
  },
  {
   "cell_type": "code",
   "execution_count": 8,
   "metadata": {
    "scrolled": true
   },
   "outputs": [
    {
     "data": {
      "text/html": [
       "<div>\n",
       "<style scoped>\n",
       "    .dataframe tbody tr th:only-of-type {\n",
       "        vertical-align: middle;\n",
       "    }\n",
       "\n",
       "    .dataframe tbody tr th {\n",
       "        vertical-align: top;\n",
       "    }\n",
       "\n",
       "    .dataframe thead th {\n",
       "        text-align: right;\n",
       "    }\n",
       "</style>\n",
       "<table border=\"1\" class=\"dataframe\">\n",
       "  <thead>\n",
       "    <tr style=\"text-align: right;\">\n",
       "      <th></th>\n",
       "      <th>Min</th>\n",
       "      <th>Max</th>\n",
       "      <th>Sd</th>\n",
       "      <th>Mean</th>\n",
       "      <th>Median</th>\n",
       "      <th>IQR</th>\n",
       "      <th>0.025</th>\n",
       "      <th>0.25</th>\n",
       "      <th>0.5</th>\n",
       "      <th>0.75</th>\n",
       "      <th>0.975</th>\n",
       "    </tr>\n",
       "  </thead>\n",
       "  <tbody>\n",
       "    <tr>\n",
       "      <th>PC-1</th>\n",
       "      <td>-0.310720</td>\n",
       "      <td>-0.134064</td>\n",
       "      <td>0.050699</td>\n",
       "      <td>-0.392028</td>\n",
       "      <td>-0.390381</td>\n",
       "      <td>0.111501</td>\n",
       "      <td>-0.340434</td>\n",
       "      <td>-0.390762</td>\n",
       "      <td>-0.390381</td>\n",
       "      <td>-0.343464</td>\n",
       "      <td>-0.159499</td>\n",
       "    </tr>\n",
       "    <tr>\n",
       "      <th>PC-2</th>\n",
       "      <td>-0.251941</td>\n",
       "      <td>0.445480</td>\n",
       "      <td>0.495028</td>\n",
       "      <td>0.109994</td>\n",
       "      <td>0.028375</td>\n",
       "      <td>0.433487</td>\n",
       "      <td>-0.224500</td>\n",
       "      <td>-0.097766</td>\n",
       "      <td>0.028375</td>\n",
       "      <td>0.210692</td>\n",
       "      <td>0.432495</td>\n",
       "    </tr>\n",
       "    <tr>\n",
       "      <th>PC-3</th>\n",
       "      <td>0.367152</td>\n",
       "      <td>0.386920</td>\n",
       "      <td>0.158165</td>\n",
       "      <td>-0.030238</td>\n",
       "      <td>-0.261082</td>\n",
       "      <td>-0.415936</td>\n",
       "      <td>0.280449</td>\n",
       "      <td>-0.057724</td>\n",
       "      <td>-0.261082</td>\n",
       "      <td>-0.366974</td>\n",
       "      <td>0.404447</td>\n",
       "    </tr>\n",
       "  </tbody>\n",
       "</table>\n",
       "</div>"
      ],
      "text/plain": [
       "           Min       Max        Sd      Mean    Median       IQR     0.025  \\\n",
       "PC-1 -0.310720 -0.134064  0.050699 -0.392028 -0.390381  0.111501 -0.340434   \n",
       "PC-2 -0.251941  0.445480  0.495028  0.109994  0.028375  0.433487 -0.224500   \n",
       "PC-3  0.367152  0.386920  0.158165 -0.030238 -0.261082 -0.415936  0.280449   \n",
       "\n",
       "          0.25       0.5      0.75     0.975  \n",
       "PC-1 -0.390762 -0.390381 -0.343464 -0.159499  \n",
       "PC-2 -0.097766  0.028375  0.210692  0.432495  \n",
       "PC-3 -0.057724 -0.261082 -0.366974  0.404447  "
      ]
     },
     "execution_count": 8,
     "metadata": {},
     "output_type": "execute_result"
    }
   ],
   "source": [
    "df_1 = pd.DataFrame(x, columns=features)\n",
    "\n",
    "# Normalized data\n",
    "from sklearn import preprocessing\n",
    "data_scaled = pd.DataFrame(preprocessing.scale(df_1),columns = df_1.columns) \n",
    "\n",
    "# PCA\n",
    "pca = PCA(n_components=3)\n",
    "pca.fit_transform(data_scaled)\n",
    "\n",
    "# components related with explicative variables\n",
    "pd.DataFrame(pca.components_,columns=data_scaled.columns,index = ['PC-1','PC-2','PC-3'])\n",
    "# The columns we are gonna keep are pc-1: 0.25, pc-2:Sd and pc"
   ]
  },
  {
   "cell_type": "markdown",
   "metadata": {},
   "source": [
    "## Alcoholic and Control graph"
   ]
  },
  {
   "cell_type": "code",
   "execution_count": 26,
   "metadata": {},
   "outputs": [],
   "source": [
    "finalDf = pd.concat([principalDf, df[['alcoholic']]], axis = 1)"
   ]
  },
  {
   "cell_type": "code",
   "execution_count": 10,
   "metadata": {},
   "outputs": [
    {
     "data": {
      "image/png": "[encoded data removed]",
      "text/plain": [
       "<matplotlib.figure.Figure at 0x1a1457a860>"
      ]
     },
     "metadata": {},
     "output_type": "display_data"
    }
   ],
   "source": [
    "\n",
    "# Visualization of the alcoholic users\n",
    "fig = plt.figure(figsize = (8,8))\n",
    "ax = fig.add_subplot(1,1,1) \n",
    "ax.set_xlabel('Component 1', fontsize = 15)\n",
    "ax.set_ylabel('Component 2', fontsize = 15)\n",
    "ax.set_title('2 component PCA', fontsize = 20)\n",
    "targets = ['a', 'c']\n",
    "colors = ['r', 'b']\n",
    "for target, color in zip(targets,colors):\n",
    "    indicesToKeep = finalDf['alcoholic'] == target\n",
    "    ax.scatter(finalDf.loc[indicesToKeep, 'component 1']\n",
    "                ,finalDf.loc[indicesToKeep, 'component 2']\n",
    "               , c = color\n",
    "               , s = 50)\n",
    "ax.legend(targets)\n",
    "ax.grid()\n",
    "plt.show()"
   ]
  },
  {
   "cell_type": "markdown",
   "metadata": {},
   "source": [
    "## Split training set and testing set"
   ]
  },
  {
   "cell_type": "code",
   "execution_count": 33,
   "metadata": {},
   "outputs": [],
   "source": [
    "# It only has to be used once because of the unnecessary columns have been removed and we only take the three explicative variables \n",
    "# which are more relevant\n",
    "from sklearn.model_selection import train_test_split\n",
    "\n",
    "# Split the targets into training/testing sets\n",
    "\n",
    "X_train, X_test, y_train, y_test= train_test_split(principalDf, y, test_size=0.5)\n",
    "\n"
   ]
  },
  {
   "cell_type": "markdown",
   "metadata": {},
   "source": [
    "## Linear regression"
   ]
  },
  {
   "cell_type": "code",
   "execution_count": 35,
   "metadata": {},
   "outputs": [
    {
     "name": "stdout",
     "output_type": "stream",
     "text": [
      "Prediction: \n",
      " ['a' 'c' 'c' ... 'c' 'c' 'a']\n"
     ]
    }
   ],
   "source": [
    "from sklearn import linear_model\n",
    "# Using linear regression\n",
    "model = linear_model.LogisticRegression()\n",
    "model.fit(X_train, y_train)\n",
    "\n",
    "# Make predictions using the testing set   \n",
    "predictions = model.predict(X_test)\n",
    "print('Prediction: \\n',  predictions )\n"
   ]
  },
  {
   "cell_type": "code",
   "execution_count": 36,
   "metadata": {},
   "outputs": [
    {
     "name": "stdout",
     "output_type": "stream",
     "text": [
      "Accuracy got it from linear regression: 0.5411370056497176\n"
     ]
    }
   ],
   "source": [
    "print('Accuracy got it from linear regression:',model.score(X_test, y_test))"
   ]
  },
  {
   "cell_type": "markdown",
   "metadata": {},
   "source": [
    "# Code to fix\n",
    "## Plot ouput\n",
    "plt.scatter(X_test, y_test,  color='black')\n",
    "plt.plot(X_test, predictions, color='blue', linewidth=3)\n",
    "\n",
    "plt.xticks(())\n",
    "plt.yticks(())\n",
    "\n",
    "plt.show()"
   ]
  },
  {
   "cell_type": "markdown",
   "metadata": {},
   "source": [
    "## Classification report"
   ]
  },
  {
   "cell_type": "code",
   "execution_count": 39,
   "metadata": {},
   "outputs": [
    {
     "name": "stdout",
     "output_type": "stream",
     "text": [
      "             precision    recall  f1-score   support\n",
      "\n",
      "          a       0.55      0.48      0.51      2864\n",
      "          c       0.53      0.60      0.57      2800\n",
      "\n",
      "avg / total       0.54      0.54      0.54      5664\n",
      "\n"
     ]
    }
   ],
   "source": [
    "from sklearn.metrics import classification_report\n",
    "print(classification_report(y_test, predictions))"
   ]
  },
  {
   "cell_type": "markdown",
   "metadata": {},
   "source": [
    "## Decision Tree"
   ]
  },
  {
   "cell_type": "code",
   "execution_count": 38,
   "metadata": {},
   "outputs": [
    {
     "data": {
      "text/plain": [
       "DecisionTreeClassifier(class_weight=None, criterion='gini', max_depth=3,\n",
       "            max_features=None, max_leaf_nodes=None,\n",
       "            min_impurity_decrease=0.0, min_impurity_split=None,\n",
       "            min_samples_leaf=5, min_samples_split=2,\n",
       "            min_weight_fraction_leaf=0.0, presort=False, random_state=100,\n",
       "            splitter='best')"
      ]
     },
     "execution_count": 38,
     "metadata": {},
     "output_type": "execute_result"
    }
   ],
   "source": [
    "from sklearn.tree import DecisionTreeClassifier\n",
    "from sklearn import tree\n",
    "clf_gini = DecisionTreeClassifier(criterion = \"gini\", random_state = 100,\n",
    "                               max_depth=3, min_samples_leaf=5)\n",
    "clf_gini.fit(X_train, y_train)\n"
   ]
  }
 ],
 "metadata": {
  "kernelspec": {
   "display_name": "Python 3",
   "language": "python",
   "name": "python3"
  },
  "language_info": {
   "codemirror_mode": {
    "name": "ipython",
    "version": 3
   },
   "file_extension": ".py",
   "mimetype": "text/x-python",
   "name": "python",
   "nbconvert_exporter": "python",
   "pygments_lexer": "ipython3",
   "version": "3.6.4"
  }
 },
 "nbformat": 4,
 "nbformat_minor": 2
}
