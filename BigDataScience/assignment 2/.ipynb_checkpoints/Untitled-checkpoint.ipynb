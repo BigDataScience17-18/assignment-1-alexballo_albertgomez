{
 "cells": [
  {
   "cell_type": "code",
   "execution_count": 188,
   "metadata": {
    "scrolled": true
   },
   "outputs": [
    {
     "name": "stdout",
     "output_type": "stream",
     "text": [
      "[[1 2 3]\n",
      " [4 5 7]]\n",
      "   0  1  2\n",
      "0  1  2  3\n",
      "1  4  5  7\n",
      "FP1\n",
      "FP2\n",
      "      0       1       2       3       4      5       6       7       8    \\\n",
      "0 -19.165 -20.142 -21.118 -21.606 -21.118 -20.63 -21.118 -22.583 -24.048   \n",
      "1   1.241   0.264  -1.200  -2.177  -2.177  -1.20  -1.689  -2.177  -2.665   \n",
      "\n",
      "      9    ...      246    247    248    249    250    251    252    253  \\\n",
      "0 -23.560  ...   -1.099 -0.610  0.854  2.319  4.272  4.761  4.761  3.784   \n",
      "1  -2.177  ...   -1.689 -0.224  1.241  3.194  2.706  1.729 -0.224 -0.712   \n",
      "\n",
      "     254    255  \n",
      "0  3.296  3.296  \n",
      "1 -0.224  2.218  \n",
      "\n",
      "[2 rows x 256 columns]\n"
     ]
    }
   ],
   "source": [
    "import numpy as np\n",
    "import pandas as pd\n",
    "\n",
    "read_file = open('co2a0000365.txt', 'r')\n",
    "\n",
    "# for line in read_file:\n",
    "# channels=[]\n",
    "read_file.readline()\n",
    "matriz =  np.matrix(np.empty(shape=(0,256), dtype=float))\n",
    "\n",
    "for j in range(2):\n",
    "  \n",
    "    firstline = read_file.readline().split(\"  \")\n",
    "    line = []\n",
    "    for i in range(len(firstline)-1):\n",
    "        if i==0:\n",
    "            user_id = firstline[i]\n",
    "        elif i>=4:\n",
    "            if i==4:\n",
    "                channelline=firstline[i].split(\" \")\n",
    "                print(channelline[0])\n",
    "                line.append(float(channelline[1]))\n",
    "             \n",
    "            else:\n",
    "                line.append(float(firstline[i]))\n",
    "    \n",
    "\n",
    "    matriz= np.insert(matriz,j,line,axis=0)\n",
    " \n",
    "   \n",
    "print(pd.DataFrame(data=matriz))\n",
    "    \n",
    "\n"
   ]
  },
  {
   "cell_type": "code",
   "execution_count": null,
   "metadata": {
    "collapsed": true
   },
   "outputs": [],
   "source": []
  }
 ],
 "metadata": {
  "kernelspec": {
   "display_name": "Python 3",
   "language": "python",
   "name": "python3"
  },
  "language_info": {
   "codemirror_mode": {
    "name": "ipython",
    "version": 3
   },
   "file_extension": ".py",
   "mimetype": "text/x-python",
   "name": "python",
   "nbconvert_exporter": "python",
   "pygments_lexer": "ipython3",
   "version": "3.6.3"
  }
 },
 "nbformat": 4,
 "nbformat_minor": 2
}
