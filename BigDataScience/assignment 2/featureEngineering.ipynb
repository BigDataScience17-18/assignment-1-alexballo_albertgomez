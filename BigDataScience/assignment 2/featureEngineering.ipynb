{
 "cells": [
  {
   "cell_type": "code",
   "execution_count": 2,
   "metadata": {
    "scrolled": false
   },
   "outputs": [
    {
     "name": "stdout",
     "output_type": "stream",
     "text": [
      "  user_id alcoholic    paradigm replication Channel     Min     Max  \\\n",
      "0     365         a  S2matcherr           3     FP1 -34.302  10.620   \n",
      "1     365         a  S2matcherr           3     FP2 -20.243  15.889   \n",
      "2     365         a  S2matcherr           3      F7 -36.112   2.950   \n",
      "\n",
      "          Sd       Mean  Median       IQR   0.025    0.25     0.5     0.75  \\\n",
      "0  11.718854 -15.407539 -17.212  20.99600 -32.349 -25.513 -17.212 -4.51700   \n",
      "1   6.962243  -4.957852  -5.595  10.86425 -16.825 -10.478  -5.595  0.38625   \n",
      "2  10.863673 -17.243051 -16.581  20.14200 -33.793 -27.934 -16.581 -7.79200   \n",
      "\n",
      "      0.975  \n",
      "0  4.761000  \n",
      "1  7.589000  \n",
      "2  0.325625  \n"
     ]
    }
   ],
   "source": [
    "import numpy as np\n",
    "import pandas as pd\n",
    "\n",
    "read_file = open('co2a0000365.txt', 'r')\n",
    "\n",
    "# for line in read_file:\n",
    "# channels=[]\n",
    "read_file.readline()\n",
    "df = pd.DataFrame(columns=['user_id', 'alcoholic', 'paradigm','replication','Channel','Min','Max','Sd','Mean',\n",
    "                           'Median','IQR','0.025','0.25','0.5','0.75','0.975'])\n",
    "matriz =  np.matrix(np.empty(shape=(0,4)))\n",
    "user = []\n",
    "alcoholic=[]\n",
    "paradigm=[]\n",
    "replication=[]\n",
    "channel=[]\n",
    "\n",
    "\n",
    "for cont in range(3):\n",
    "  \n",
    "    firstline = read_file.readline().split(\"  \")\n",
    "    lineeg=[]\n",
    "    \n",
    "    for i in range(len(firstline)-1):\n",
    "        \n",
    "        if i==0:\n",
    "            user.append(firstline[i])\n",
    "        elif i==1:\n",
    "            alcoholic.append(firstline[i])\n",
    "             \n",
    "        elif i==2:\n",
    "            \n",
    "            paradigm.append(firstline[i])\n",
    "             \n",
    "        if i==3:\n",
    "            \n",
    "            replication.append(firstline[i])\n",
    "        elif i>=4:\n",
    "            if i==4:\n",
    "                channelline=firstline[i].split(\" \")\n",
    "                channel.append(channelline[0])\n",
    "                lineeg.append(float(channelline[1]))\n",
    "             \n",
    "            else:\n",
    "                lineeg.append(float(firstline[i]))\n",
    "\n",
    "   # matriz= np.insert(matriz,j,line,axis=0)\n",
    "    datachannel = pd.DataFrame(lineeg)\n",
    "    min = datachannel.min()\n",
    "    max = datachannel.max()\n",
    "    sd = datachannel.std()\n",
    "    mean = datachannel.mean()\n",
    "    quantil0=datachannel.quantile(.025)\n",
    "    quantil1=datachannel.quantile(.25)\n",
    "    median=datachannel.quantile(.5)\n",
    "    quantil3=datachannel.quantile(.75)\n",
    "    quantil4=datachannel.quantile(.975)\n",
    "    iqr=quantil3[0]-quantil1[0]\n",
    "    \n",
    "    df.loc[cont]=[user[cont],alcoholic[cont],paradigm[cont],replication[cont],channel[cont],min[0],max[0],\n",
    "                  sd[0],mean[0],median[0],iqr,quantil0[0],quantil1[0],median[0],quantil3[0],quantil4[0]]\n",
    "  \n",
    " \n",
    "   \n",
    "print(df)\n",
    "    \n",
    "\n"
   ]
  }
 ],
 "metadata": {
  "kernelspec": {
   "display_name": "Python 3",
   "language": "python",
   "name": "python3"
  },
  "language_info": {
   "codemirror_mode": {
    "name": "ipython",
    "version": 3
   },
   "file_extension": ".py",
   "mimetype": "text/x-python",
   "name": "python",
   "nbconvert_exporter": "python",
   "pygments_lexer": "ipython3",
   "version": "3.6.4"
  }
 },
 "nbformat": 4,
 "nbformat_minor": 2
}
