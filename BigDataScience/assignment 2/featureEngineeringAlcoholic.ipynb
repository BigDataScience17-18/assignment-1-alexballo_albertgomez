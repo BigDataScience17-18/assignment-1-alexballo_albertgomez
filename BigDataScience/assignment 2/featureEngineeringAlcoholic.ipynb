{
 "cells": [
  {
   "cell_type": "code",
   "execution_count": 8,
   "metadata": {
    "scrolled": false
   },
   "outputs": [
    {
     "name": "stdout",
     "output_type": "stream",
     "text": [
      "./datasetAlcoholic/co2a0000364.txt\n",
      "./datasetAlcoholic/co2a0000365.txt\n",
      "./datasetAlcoholic/co2a0000368.txt\n",
      "./datasetAlcoholic/co2a0000369.txt\n",
      "./datasetAlcoholic/co2a0000370.txt\n",
      "./datasetAlcoholic/co2a0000371.txt\n",
      "./datasetAlcoholic/co2a0000372.txt\n",
      "./datasetAlcoholic/co2a0000375.txt\n",
      "./datasetAlcoholic/co2a0000377.txt\n",
      "./datasetAlcoholic/co2a0000378.txt\n"
     ]
    }
   ],
   "source": [
    "import numpy as np\n",
    "import pandas as pd\n",
    "import matplotlib.pyplot as plt\n",
    "from sklearn.decomposition import PCA\n",
    "from os import listdir\n",
    "root=\"./datasetAlcoholic\";\n",
    "\n",
    "\n",
    "# It is going to take a while to read all the data\n",
    "linecounter= 0\n",
    "filecounter=0\n",
    "df = pd.DataFrame(columns=['user_id', 'alcoholic', 'paradigm','replication','Channel','Min','Max','Sd','Mean',\n",
    "                               'Median','IQR','0.025','0.25','0.5','0.75','0.975'])\n",
    "cont=0;\n",
    "# for file in listdir(\"./datasetAlcoholic\"):\n",
    "\n",
    "\n",
    "        # Renaming the file\n",
    "        \n",
    "        filecounter= filecounter + 1\n",
    "        \n",
    "        file_root = root + \"/\" + file\n",
    "        print(file_root)\n",
    "        if(file!=\".DS_Store\"):\n",
    "            read_file = open(file_root, 'r')\n",
    "            read_file.readline()\n",
    "            counterinside=0\n",
    "            user = []\n",
    "            alcoholic=[]\n",
    "            paradigm=[]\n",
    "            replication=[]\n",
    "            channel=[]\n",
    "           \n",
    "            # For each line we separate the values to add them in the created dataframe\n",
    "            for line in read_file:\n",
    "                if(filecounter<=5):\n",
    "                    linecounter= linecounter + 1\n",
    "                \n",
    "                firstline = line.split(\"  \")\n",
    "                lineeg=[]\n",
    "\n",
    "                for i in range(len(firstline)-1):\n",
    "                    \n",
    "\n",
    "                    if i==0:\n",
    "                        user.append(float(firstline[i]))\n",
    "                    elif i==1:\n",
    "                        alcoholic.append(firstline[i])\n",
    "\n",
    "                    elif i==2:\n",
    "\n",
    "                        paradigm.append(firstline[i])\n",
    "\n",
    "                    if i==3:\n",
    "\n",
    "                        replication.append(float(firstline[i]))\n",
    "                    elif i>=4:\n",
    "                        if i==4:\n",
    "                            channelline=firstline[i].split(\" \")\n",
    "                            channel.append(channelline[0])\n",
    "                            if channelline[1][0]=='c':\n",
    "                                canal=channelline[1][1:]\n",
    "                                lineeg.append(float(canal))\n",
    "\n",
    "                            else:\n",
    "                                lineeg.append(float(channelline[1]))\n",
    "\n",
    "                        else:\n",
    "                            lineeg.append(float(firstline[i]))\n",
    "\n",
    "              \n",
    "                datachannel = pd.DataFrame(lineeg)\n",
    "                min = datachannel.min()\n",
    "                max = datachannel.max()\n",
    "                sd = datachannel.std()\n",
    "                mean = datachannel.mean()\n",
    "                quantil0=datachannel.quantile(.025)\n",
    "                quantil1=datachannel.quantile(.25)\n",
    "                median=datachannel.quantile(.5)\n",
    "                quantil3=datachannel.quantile(.75)\n",
    "                quantil4=datachannel.quantile(.975)\n",
    "                iqr=quantil3[0]-quantil1[0]\n",
    "                # counterinside is the one which goes through the lines of the current file\n",
    "                # cont is the counter which goes through all the files\n",
    "                df.loc[cont]=[user[counterinside],alcoholic[counterinside],paradigm[counterinside],replication[counterinside],channel[counterinside],min[0],max[0],\n",
    "                              sd[0],mean[0],median[0],iqr,quantil0[0],quantil1[0],median[0],quantil3[0],quantil4[0]]\n",
    "               \n",
    "                cont= cont +1\n",
    "                counterinside= counterinside + 1\n",
    "\n",
    "            df.head(10)"
   ]
  },
  {
   "cell_type": "markdown",
   "metadata": {},
   "source": [
    "## Separar columnes\n"
   ]
  },
  {
   "cell_type": "code",
   "execution_count": 9,
   "metadata": {
    "scrolled": true
   },
   "outputs": [
    {
     "name": "stdout",
     "output_type": "stream",
     "text": [
      "[[-13.316       19.887        6.70782517 ...   4.751        8.169\n",
      "   16.958     ]\n",
      " [-14.303       24.76         7.97712967 ...   4.74         8.647\n",
      "   20.854     ]\n",
      " [-30.589       31.423        9.71450203 ...   5.788       12.868\n",
      "   22.939     ]\n",
      " ...\n",
      " [ -8.443        1.811        1.74080866 ...  -2.584       -1.607\n",
      "    0.346     ]\n",
      " [-25.991        6.236        5.95207983 ...  -8.413       -4.506\n",
      "    4.099625  ]\n",
      " [-20.589       22.868       10.23009692 ...   1.139        9.684\n",
      "   20.426     ]]\n"
     ]
    }
   ],
   "source": [
    "from sklearn.preprocessing import StandardScaler\n",
    "\n",
    "from sklearn.preprocessing import StandardScaler\n",
    "\n",
    "features =['Min','Max','Sd','Mean',\n",
    "                           'Median','IQR','0.025','0.25','0.5','0.75','0.975']\n",
    "# Separating explicatives variables off the target\n",
    "x = df.loc[:, features].values\n",
    "# Separating out the target\n",
    "y = df.loc[:,['alcoholic']].values\n",
    "print(x)\n",
    "\n",
    "\n",
    "# Standardizing the features\n",
    "x = StandardScaler().fit_transform(x)"
   ]
  },
  {
   "cell_type": "markdown",
   "metadata": {},
   "source": [
    "## PCA"
   ]
  },
  {
   "cell_type": "code",
   "execution_count": 10,
   "metadata": {},
   "outputs": [
    {
     "data": {
      "text/html": [
       "<div>\n",
       "<style scoped>\n",
       "    .dataframe tbody tr th:only-of-type {\n",
       "        vertical-align: middle;\n",
       "    }\n",
       "\n",
       "    .dataframe tbody tr th {\n",
       "        vertical-align: top;\n",
       "    }\n",
       "\n",
       "    .dataframe thead th {\n",
       "        text-align: right;\n",
       "    }\n",
       "</style>\n",
       "<table border=\"1\" class=\"dataframe\">\n",
       "  <thead>\n",
       "    <tr style=\"text-align: right;\">\n",
       "      <th></th>\n",
       "      <th>component 1</th>\n",
       "      <th>component 2</th>\n",
       "      <th>component 3</th>\n",
       "    </tr>\n",
       "  </thead>\n",
       "  <tbody>\n",
       "    <tr>\n",
       "      <th>0</th>\n",
       "      <td>-1.873622</td>\n",
       "      <td>1.153037</td>\n",
       "      <td>-0.263615</td>\n",
       "    </tr>\n",
       "    <tr>\n",
       "      <th>1</th>\n",
       "      <td>-1.639488</td>\n",
       "      <td>1.853683</td>\n",
       "      <td>-0.111979</td>\n",
       "    </tr>\n",
       "    <tr>\n",
       "      <th>2</th>\n",
       "      <td>-1.594136</td>\n",
       "      <td>3.214299</td>\n",
       "      <td>-0.627994</td>\n",
       "    </tr>\n",
       "    <tr>\n",
       "      <th>3</th>\n",
       "      <td>-0.250267</td>\n",
       "      <td>2.806569</td>\n",
       "      <td>-0.290839</td>\n",
       "    </tr>\n",
       "    <tr>\n",
       "      <th>4</th>\n",
       "      <td>-1.946681</td>\n",
       "      <td>0.099439</td>\n",
       "      <td>-0.209588</td>\n",
       "    </tr>\n",
       "    <tr>\n",
       "      <th>5</th>\n",
       "      <td>-1.932338</td>\n",
       "      <td>0.234428</td>\n",
       "      <td>-0.315370</td>\n",
       "    </tr>\n",
       "    <tr>\n",
       "      <th>6</th>\n",
       "      <td>-1.725965</td>\n",
       "      <td>-0.737843</td>\n",
       "      <td>-0.156677</td>\n",
       "    </tr>\n",
       "    <tr>\n",
       "      <th>7</th>\n",
       "      <td>-1.495337</td>\n",
       "      <td>-0.144134</td>\n",
       "      <td>-0.004638</td>\n",
       "    </tr>\n",
       "    <tr>\n",
       "      <th>8</th>\n",
       "      <td>-2.580170</td>\n",
       "      <td>0.409935</td>\n",
       "      <td>-0.147049</td>\n",
       "    </tr>\n",
       "    <tr>\n",
       "      <th>9</th>\n",
       "      <td>-1.216101</td>\n",
       "      <td>0.096161</td>\n",
       "      <td>0.026386</td>\n",
       "    </tr>\n",
       "  </tbody>\n",
       "</table>\n",
       "</div>"
      ],
      "text/plain": [
       "   component 1  component 2  component 3\n",
       "0    -1.873622     1.153037    -0.263615\n",
       "1    -1.639488     1.853683    -0.111979\n",
       "2    -1.594136     3.214299    -0.627994\n",
       "3    -0.250267     2.806569    -0.290839\n",
       "4    -1.946681     0.099439    -0.209588\n",
       "5    -1.932338     0.234428    -0.315370\n",
       "6    -1.725965    -0.737843    -0.156677\n",
       "7    -1.495337    -0.144134    -0.004638\n",
       "8    -2.580170     0.409935    -0.147049\n",
       "9    -1.216101     0.096161     0.026386"
      ]
     },
     "execution_count": 10,
     "metadata": {},
     "output_type": "execute_result"
    }
   ],
   "source": [
    "\n",
    "# Keeping 3 components\n",
    "pca = PCA(n_components=3)\n",
    "# Explicatives variables transformation\n",
    "principalComponents = pca.fit_transform(x)\n",
    "principalDf = pd.DataFrame(data = principalComponents\n",
    "             , columns = ['component 1', 'component 2','component 3'])\n",
    "principalDf.head(10)"
   ]
  },
  {
   "cell_type": "markdown",
   "metadata": {},
   "source": [
    "## Drawing"
   ]
  },
  {
   "cell_type": "code",
   "execution_count": 12,
   "metadata": {},
   "outputs": [
    {
     "data": {
      "text/plain": [
       "array([0.53074284, 0.40629095, 0.03980554])"
      ]
     },
     "execution_count": 12,
     "metadata": {},
     "output_type": "execute_result"
    }
   ],
   "source": [
    "\n",
    "pca.explained_variance_ratio_"
   ]
  },
  {
   "cell_type": "code",
   "execution_count": 13,
   "metadata": {
    "scrolled": true
   },
   "outputs": [
    {
     "data": {
      "text/html": [
       "<div>\n",
       "<style scoped>\n",
       "    .dataframe tbody tr th:only-of-type {\n",
       "        vertical-align: middle;\n",
       "    }\n",
       "\n",
       "    .dataframe tbody tr th {\n",
       "        vertical-align: top;\n",
       "    }\n",
       "\n",
       "    .dataframe thead th {\n",
       "        text-align: right;\n",
       "    }\n",
       "</style>\n",
       "<table border=\"1\" class=\"dataframe\">\n",
       "  <thead>\n",
       "    <tr style=\"text-align: right;\">\n",
       "      <th></th>\n",
       "      <th>Min</th>\n",
       "      <th>Max</th>\n",
       "      <th>Sd</th>\n",
       "      <th>Mean</th>\n",
       "      <th>Median</th>\n",
       "      <th>IQR</th>\n",
       "      <th>0.025</th>\n",
       "      <th>0.25</th>\n",
       "      <th>0.5</th>\n",
       "      <th>0.75</th>\n",
       "      <th>0.975</th>\n",
       "    </tr>\n",
       "  </thead>\n",
       "  <tbody>\n",
       "    <tr>\n",
       "      <th>PC-1</th>\n",
       "      <td>-0.332730</td>\n",
       "      <td>-0.086284</td>\n",
       "      <td>0.129563</td>\n",
       "      <td>-0.395307</td>\n",
       "      <td>-0.395446</td>\n",
       "      <td>0.136844</td>\n",
       "      <td>-0.354900</td>\n",
       "      <td>-0.396287</td>\n",
       "      <td>-0.395446</td>\n",
       "      <td>-0.284283</td>\n",
       "      <td>-0.116169</td>\n",
       "    </tr>\n",
       "    <tr>\n",
       "      <th>PC-2</th>\n",
       "      <td>-0.235402</td>\n",
       "      <td>0.430279</td>\n",
       "      <td>0.446824</td>\n",
       "      <td>0.137837</td>\n",
       "      <td>0.103633</td>\n",
       "      <td>0.415908</td>\n",
       "      <td>-0.216813</td>\n",
       "      <td>-0.111981</td>\n",
       "      <td>0.103633</td>\n",
       "      <td>0.320125</td>\n",
       "      <td>0.429312</td>\n",
       "    </tr>\n",
       "    <tr>\n",
       "      <th>PC-3</th>\n",
       "      <td>0.231406</td>\n",
       "      <td>0.508879</td>\n",
       "      <td>0.081390</td>\n",
       "      <td>-0.029394</td>\n",
       "      <td>-0.251108</td>\n",
       "      <td>-0.402286</td>\n",
       "      <td>0.217333</td>\n",
       "      <td>0.051858</td>\n",
       "      <td>-0.251108</td>\n",
       "      <td>-0.370833</td>\n",
       "      <td>0.452350</td>\n",
       "    </tr>\n",
       "  </tbody>\n",
       "</table>\n",
       "</div>"
      ],
      "text/plain": [
       "           Min       Max        Sd      Mean    Median       IQR     0.025  \\\n",
       "PC-1 -0.332730 -0.086284  0.129563 -0.395307 -0.395446  0.136844 -0.354900   \n",
       "PC-2 -0.235402  0.430279  0.446824  0.137837  0.103633  0.415908 -0.216813   \n",
       "PC-3  0.231406  0.508879  0.081390 -0.029394 -0.251108 -0.402286  0.217333   \n",
       "\n",
       "          0.25       0.5      0.75     0.975  \n",
       "PC-1 -0.396287 -0.395446 -0.284283 -0.116169  \n",
       "PC-2 -0.111981  0.103633  0.320125  0.429312  \n",
       "PC-3  0.051858 -0.251108 -0.370833  0.452350  "
      ]
     },
     "execution_count": 13,
     "metadata": {},
     "output_type": "execute_result"
    }
   ],
   "source": [
    "df_1 = pd.DataFrame(x, columns=features)\n",
    "\n",
    "# Normalized data\n",
    "from sklearn import preprocessing\n",
    "data_scaled = pd.DataFrame(preprocessing.scale(df_1),columns = df_1.columns) \n",
    "\n",
    "# PCA\n",
    "pca = PCA(n_components=3)\n",
    "pca.fit_transform(data_scaled)\n",
    "\n",
    "# components related with explicative variables\n",
    "pd.DataFrame(pca.components_,columns=data_scaled.columns,index = ['PC-1','PC-2','PC-3'])\n",
    "# The columns we are gonna keep are pc-1: 0.25, pc-2:Sd and pc"
   ]
  },
  {
   "cell_type": "code",
   "execution_count": 15,
   "metadata": {},
   "outputs": [],
   "source": [
    "finalDf = pd.concat([principalDf, df[['alcoholic']]], axis = 1)"
   ]
  },
  {
   "cell_type": "code",
   "execution_count": 16,
   "metadata": {},
   "outputs": [
    {
     "data": {
      "image/png": "[encoded data removed]",
      "text/plain": [
       "<matplotlib.figure.Figure at 0x201dbe62588>"
      ]
     },
     "metadata": {},
     "output_type": "display_data"
    }
   ],
   "source": [
    "\n",
    "# Visualization of the alcoholic users\n",
    "fig = plt.figure(figsize = (8,8))\n",
    "ax = fig.add_subplot(1,1,1) \n",
    "ax.set_xlabel('Component 1', fontsize = 15)\n",
    "ax.set_ylabel('Component 2', fontsize = 15)\n",
    "ax.set_title('2 component PCA', fontsize = 20)\n",
    "targets = ['a', 'c']\n",
    "colors = ['r', 'b']\n",
    "for target, color in zip(targets,colors):\n",
    "    indicesToKeep = finalDf['alcoholic'] == target\n",
    "    ax.scatter(finalDf.loc[indicesToKeep, 'component 1']\n",
    "                ,finalDf.loc[indicesToKeep, 'component 2']\n",
    "               , c = color\n",
    "               , s = 50)\n",
    "ax.legend(targets)\n",
    "ax.grid()\n",
    "plt.show()"
   ]
  },
  {
   "cell_type": "code",
   "execution_count": 19,
   "metadata": {},
   "outputs": [
    {
     "ename": "ValueError",
     "evalue": "This solver needs samples of at least 2 classes in the data, but the data contains only one class: 'a'",
     "output_type": "error",
     "traceback": [
      "\u001b[1;31m---------------------------------------------------------------------------\u001b[0m",
      "\u001b[1;31mValueError\u001b[0m                                Traceback (most recent call last)",
      "\u001b[1;32m<ipython-input-19-4ef557d91b09>\u001b[0m in \u001b[0;36m<module>\u001b[1;34m()\u001b[0m\n\u001b[0;32m     21\u001b[0m \u001b[1;31m# prediction = lm.predict(X_test)\u001b[0m\u001b[1;33m\u001b[0m\u001b[1;33m\u001b[0m\u001b[0m\n\u001b[0;32m     22\u001b[0m \u001b[0mlogreg\u001b[0m \u001b[1;33m=\u001b[0m \u001b[0mlinear_model\u001b[0m\u001b[1;33m.\u001b[0m\u001b[0mLogisticRegression\u001b[0m\u001b[1;33m(\u001b[0m\u001b[1;33m)\u001b[0m\u001b[1;33m\u001b[0m\u001b[0m\n\u001b[1;32m---> 23\u001b[1;33m \u001b[0mlogreg\u001b[0m\u001b[1;33m.\u001b[0m\u001b[0mfit\u001b[0m\u001b[1;33m(\u001b[0m\u001b[0mX_train\u001b[0m\u001b[1;33m,\u001b[0m \u001b[0my_train\u001b[0m\u001b[1;33m)\u001b[0m\u001b[1;33m\u001b[0m\u001b[0m\n\u001b[0m\u001b[0;32m     24\u001b[0m \u001b[1;33m\u001b[0m\u001b[0m\n\u001b[0;32m     25\u001b[0m \u001b[0my_pred\u001b[0m \u001b[1;33m=\u001b[0m \u001b[0mlogreg\u001b[0m\u001b[1;33m.\u001b[0m\u001b[0mpredict\u001b[0m\u001b[1;33m(\u001b[0m\u001b[0mX_test\u001b[0m\u001b[1;33m)\u001b[0m\u001b[1;33m\u001b[0m\u001b[0m\n",
      "\u001b[1;32m~\\Anaconda3\\lib\\site-packages\\sklearn\\linear_model\\logistic.py\u001b[0m in \u001b[0;36mfit\u001b[1;34m(self, X, y, sample_weight)\u001b[0m\n\u001b[0;32m   1231\u001b[0m                 \u001b[0mself\u001b[0m\u001b[1;33m.\u001b[0m\u001b[0mclass_weight\u001b[0m\u001b[1;33m,\u001b[0m \u001b[0mself\u001b[0m\u001b[1;33m.\u001b[0m\u001b[0mpenalty\u001b[0m\u001b[1;33m,\u001b[0m \u001b[0mself\u001b[0m\u001b[1;33m.\u001b[0m\u001b[0mdual\u001b[0m\u001b[1;33m,\u001b[0m \u001b[0mself\u001b[0m\u001b[1;33m.\u001b[0m\u001b[0mverbose\u001b[0m\u001b[1;33m,\u001b[0m\u001b[1;33m\u001b[0m\u001b[0m\n\u001b[0;32m   1232\u001b[0m                 \u001b[0mself\u001b[0m\u001b[1;33m.\u001b[0m\u001b[0mmax_iter\u001b[0m\u001b[1;33m,\u001b[0m \u001b[0mself\u001b[0m\u001b[1;33m.\u001b[0m\u001b[0mtol\u001b[0m\u001b[1;33m,\u001b[0m \u001b[0mself\u001b[0m\u001b[1;33m.\u001b[0m\u001b[0mrandom_state\u001b[0m\u001b[1;33m,\u001b[0m\u001b[1;33m\u001b[0m\u001b[0m\n\u001b[1;32m-> 1233\u001b[1;33m                 sample_weight=sample_weight)\n\u001b[0m\u001b[0;32m   1234\u001b[0m             \u001b[0mself\u001b[0m\u001b[1;33m.\u001b[0m\u001b[0mn_iter_\u001b[0m \u001b[1;33m=\u001b[0m \u001b[0mnp\u001b[0m\u001b[1;33m.\u001b[0m\u001b[0marray\u001b[0m\u001b[1;33m(\u001b[0m\u001b[1;33m[\u001b[0m\u001b[0mn_iter_\u001b[0m\u001b[1;33m]\u001b[0m\u001b[1;33m)\u001b[0m\u001b[1;33m\u001b[0m\u001b[0m\n\u001b[0;32m   1235\u001b[0m             \u001b[1;32mreturn\u001b[0m \u001b[0mself\u001b[0m\u001b[1;33m\u001b[0m\u001b[0m\n",
      "\u001b[1;32m~\\Anaconda3\\lib\\site-packages\\sklearn\\svm\\base.py\u001b[0m in \u001b[0;36m_fit_liblinear\u001b[1;34m(X, y, C, fit_intercept, intercept_scaling, class_weight, penalty, dual, verbose, max_iter, tol, random_state, multi_class, loss, epsilon, sample_weight)\u001b[0m\n\u001b[0;32m    851\u001b[0m             raise ValueError(\"This solver needs samples of at least 2 classes\"\n\u001b[0;32m    852\u001b[0m                              \u001b[1;34m\" in the data, but the data contains only one\"\u001b[0m\u001b[1;33m\u001b[0m\u001b[0m\n\u001b[1;32m--> 853\u001b[1;33m                              \" class: %r\" % classes_[0])\n\u001b[0m\u001b[0;32m    854\u001b[0m \u001b[1;33m\u001b[0m\u001b[0m\n\u001b[0;32m    855\u001b[0m         \u001b[0mclass_weight_\u001b[0m \u001b[1;33m=\u001b[0m \u001b[0mcompute_class_weight\u001b[0m\u001b[1;33m(\u001b[0m\u001b[0mclass_weight\u001b[0m\u001b[1;33m,\u001b[0m \u001b[0mclasses_\u001b[0m\u001b[1;33m,\u001b[0m \u001b[0my\u001b[0m\u001b[1;33m)\u001b[0m\u001b[1;33m\u001b[0m\u001b[0m\n",
      "\u001b[1;31mValueError\u001b[0m: This solver needs samples of at least 2 classes in the data, but the data contains only one class: 'a'"
     ]
    }
   ],
   "source": [
    "# It only has to be used once because of the unnecessary columns have been removed and we only take the three explicative variables \n",
    "# which are more relevant\n",
    "from sklearn.model_selection import train_test_split\n",
    "from sklearn import datasets, linear_model\n",
    "\n",
    "\n",
    "resultDf = pd.concat([df, principalDf], axis=1)\n",
    "\n",
    "# Split the targets into training/testing sets\n",
    "split= linecounter/cont * 100 \n",
    "finalDf.target=finalDf['alcoholic']\n",
    "y=finalDf.target\n",
    "X_train, X_test, y_train, y_test= train_test_split(principalDf, y, test_size=1-split)\n",
    "\n",
    "# lm = linear_model.LinearRegression()\n",
    "\n",
    "\n",
    "# model= lm.fit(X_train, y_train)\n",
    "\n",
    "# Make predictions using the testing set\n",
    "# prediction = lm.predict(X_test)\n",
    "logreg = linear_model.LogisticRegression()\n",
    "logreg.fit(X_train, y_train)\n",
    "    \n",
    "y_pred = logreg.predict(X_test)\n",
    "print('Prediction: \\n',  y_pred )\n"
   ]
  },
  {
   "cell_type": "code",
   "execution_count": null,
   "metadata": {},
   "outputs": [],
   "source": []
  },
  {
   "cell_type": "code",
   "execution_count": null,
   "metadata": {},
   "outputs": [],
   "source": []
  }
 ],
 "metadata": {
  "kernelspec": {
   "display_name": "Python 3",
   "language": "python",
   "name": "python3"
  },
  "language_info": {
   "codemirror_mode": {
    "name": "ipython",
    "version": 3
   },
   "file_extension": ".py",
   "mimetype": "text/x-python",
   "name": "python",
   "nbconvert_exporter": "python",
   "pygments_lexer": "ipython3",
   "version": "3.6.4"
  }
 },
 "nbformat": 4,
 "nbformat_minor": 2
}
